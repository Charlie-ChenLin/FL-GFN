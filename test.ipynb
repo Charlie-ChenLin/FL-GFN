{
 "cells": [
  {
   "cell_type": "code",
   "execution_count": null,
   "metadata": {},
   "outputs": [
    {
     "ename": "",
     "evalue": "",
     "output_type": "error",
     "traceback": [
      "\u001b[1;31mJupyter cannot be started. Error attempting to locate Jupyter: Running cells with 'Python 3.6.8' requires the jupyter and notebook package.\n",
      "\u001b[1;31mRun the following command to install 'jupyter and notebook' into the Python environment. \n",
      "\u001b[1;31mCommand: 'python -m pip install jupyter notebook -U\n",
      "\u001b[1;31mor\n",
      "\u001b[1;31mconda install jupyter notebook -U'\n",
      "\u001b[1;31mClick <a href='https://aka.ms/installJupyterForVSCode'>here</a> for more info."
     ]
    }
   ],
   "source": [
    "import torch\n",
    "print(torch.__version__)\n",
    "print(torch.version.cuda)\n",
    "print(torch.cuda.is_available())\n"
   ]
  },
  {
   "cell_type": "code",
   "execution_count": null,
   "metadata": {},
   "outputs": [
    {
     "ename": "",
     "evalue": "",
     "output_type": "error",
     "traceback": [
      "\u001b[1;31mJupyter cannot be started. Error attempting to locate Jupyter: Running cells with 'Python 3.6.8' requires the jupyter and notebook package.\n",
      "\u001b[1;31mRun the following command to install 'jupyter and notebook' into the Python environment. \n",
      "\u001b[1;31mCommand: 'python -m pip install jupyter notebook -U\n",
      "\u001b[1;31mor\n",
      "\u001b[1;31mconda install jupyter notebook -U'\n",
      "\u001b[1;31mClick <a href='https://aka.ms/installJupyterForVSCode'>here</a> for more info."
     ]
    }
   ],
   "source": [
    "import numpy as np\n",
    "intermediate_energies = [0.6961474461702144, 0.883494921538938, -0.2745059751263419, 0.883494921538938, 0.7442282139370466, 0.7442282139370466, -0.40046449111789073, 0.6261749162235306, -0.4381397850674522, 0.4110535720923896, -0.4381397850674522, 0.8206350287761408, 0.6961474461702144, 0.013149744911117978, 0.6961474461702144, 0.4110535720923896, 0.013149744911117978, -0.40046449111789073, -0.4381397850674522, 0.883494921538938, 0.7442282139370466, -0.2745059751263419, 0.6261749162235306, 0.6261749162235306, 0.8206350287761408, -0.40046449111789073, 0.8206350287761408, -0.2745059751263419, 0.4110535720923896, 0.013149744911117978]\n",
    "arr= np.array(intermediate_energies)\n",
    "np.exp(arr).mean()"
   ]
  },
  {
   "cell_type": "code",
   "execution_count": null,
   "metadata": {},
   "outputs": [],
   "source": []
  }
 ],
 "metadata": {
  "kernelspec": {
   "display_name": "Python (GFlowNet)",
   "language": "python",
   "name": "gflownet"
  },
  "language_info": {
   "name": "python",
   "version": "3.12.7"
  }
 },
 "nbformat": 4,
 "nbformat_minor": 2
}
